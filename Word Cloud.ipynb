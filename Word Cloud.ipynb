{
 "cells": [
  {
   "cell_type": "markdown",
   "metadata": {},
   "source": [
    "# 주제: 형태소 분석과 워드 클라우드\n",
    "\n",
    "## 학습목표\n",
    "### 1. 파이썬 형태소 분석을 할 수 있다.\n",
    "### 2. 조건에 따라 워드 클라우드를 그릴 수 있다."
   ]
  },
  {
   "cell_type": "markdown",
   "metadata": {},
   "source": [
    "## 1단계. 모듈 추가하기"
   ]
  },
  {
   "cell_type": "code",
   "execution_count": 10,
   "metadata": {
    "collapsed": false
   },
   "outputs": [
    {
     "ename": "ImportError",
     "evalue": "No module named 'Ipython'",
     "output_type": "error",
     "traceback": [
      "\u001b[0;31m---------------------------------------------------------------------------\u001b[0m",
      "\u001b[0;31mImportError\u001b[0m                               Traceback (most recent call last)",
      "\u001b[0;32m<ipython-input-10-05b9b839392a>\u001b[0m in \u001b[0;36m<module>\u001b[0;34m()\u001b[0m\n\u001b[1;32m      2\u001b[0m \u001b[1;32mfrom\u001b[0m \u001b[0mkonlpy\u001b[0m\u001b[1;33m.\u001b[0m\u001b[0mtag\u001b[0m \u001b[1;32mimport\u001b[0m \u001b[0mTwitter\u001b[0m\u001b[1;33m\u001b[0m\u001b[0m\n\u001b[1;32m      3\u001b[0m \u001b[1;32mimport\u001b[0m \u001b[0mpytagcloud\u001b[0m\u001b[1;33m\u001b[0m\u001b[0m\n\u001b[0;32m----> 4\u001b[0;31m \u001b[1;32mfrom\u001b[0m \u001b[0mIpython\u001b[0m\u001b[1;33m.\u001b[0m\u001b[0mdisplay\u001b[0m \u001b[1;32mimport\u001b[0m \u001b[0mimage\u001b[0m\u001b[1;33m\u001b[0m\u001b[0m\n\u001b[0m",
      "\u001b[0;31mImportError\u001b[0m: No module named 'Ipython'"
     ]
    }
   ],
   "source": [
    "from collections import Counter\n",
    "from konlpy.tag import Twitter\n",
    "import pytagcloud\n",
    "from Ipython.display import image"
   ]
  },
  {
   "cell_type": "markdown",
   "metadata": {},
   "source": [
    "## 2단계. 데이터 불러오기"
   ]
  },
  {
   "cell_type": "code",
   "execution_count": 4,
   "metadata": {
    "collapsed": false
   },
   "outputs": [
    {
     "name": "stdout",
     "output_type": "stream",
     "text": [
      "앵커\n",
      "\n",
      "이달 들어 통일부에 접수된 북 측과의 접촉 신청이 19건입니다. 한동안 거의 없었던 민간 차원의 접촉 신청이 크게 증가한 건데 최근의 분위기를 탄 것 같긴 합니다. 이 가운데는 6·15 공동선언실천 남측위원회의 신청도 포함돼 있는데, 남측위원회 측은 이미 6·15 행사는 북한에서, 8·15 행사는 서울에서 열기로 합의했다고 밝혔습니다. \n",
      "\n",
      "안태훈 기자의 보도입니다. \n",
      "\n",
      "기자\n",
      "\n",
      "6·15 공동선언실천 민족공동위원회가 지난 2월 중국 선양에서 만나 합의한 내용입니다. \n",
      "\n",
      "남북이 6·15와 8·15를 계기로 서울과 평양 등에서 9년 만에 공동행사를 하자는 게 핵심입니다. \n",
      "\n",
      "[최은아/6·15 남측위원회 사무처장 : 6·15 공동행사는 북한에서 개최하고 8·15 광복절을 기념하는 공동행사는 서울에서 열기로 북측과 협의했습니다.]\n",
      "\n",
      "6·15 행사 개최지를 놓고는 남측은 개성을 선호하고 북측은 평양을 원하고 있습니다. \n",
      "\n",
      "[최은아/6·15 남측위원회 사무처장 : 북측은 이런 합의에 앞서 사전에 조율된 의견을 가지고 나옵니다. 북한 당국의 의견이 반영된 것으로 저희는 판단합니다.]\n",
      "\n",
      "새 정부가 북측과의 접촉을 수리하고 이후 방북 신청만 받아들이면 얼마든지 6·15 공동행사를 재개할 수 있다는 겁니다.\n",
      "\n",
      "6·15 공동행사는 2008년 이명박 정부 초기에 개최된 뒤 중단됐습니다. \n",
      "\n",
      "하지만 새 정부가 한 달도 안 남은 6·15 공동행사의 개최를 승인할지는 아직 미지수입니다. \n",
      "\n",
      "통일부는 \"국제사회의 대북제재 틀을 훼손하지 않는 선에서 유연하게 검토하겠다\"고 밝혔습니다.\n",
      "\n",
      "안태훈\n"
     ]
    }
   ],
   "source": [
    "f= open('text.txt','r')\n",
    "data = f.read()\n",
    "print(data)"
   ]
  },
  {
   "cell_type": "markdown",
   "metadata": {},
   "source": [
    "## 3단계. 명사만 추출하기\n",
    "- 읽어들인 파일에서 특성 성분만 추출을 한다.\n",
    "- 이를 위해 형태소 분석 엔진인 Twitter()를 사용한다."
   ]
  },
  {
   "cell_type": "code",
   "execution_count": 5,
   "metadata": {
    "collapsed": false
   },
   "outputs": [],
   "source": [
    "nlp = Twitter()\n",
    "nouns = nlp.nouns(data)"
   ]
  },
  {
   "cell_type": "code",
   "execution_count": 6,
   "metadata": {
    "collapsed": false
   },
   "outputs": [
    {
     "data": {
      "text/plain": [
       "Counter({'가운데': 1,\n",
       "         '가지': 1,\n",
       "         '개성': 1,\n",
       "         '개최': 4,\n",
       "         '거의': 1,\n",
       "         '건': 1,\n",
       "         '검토': 1,\n",
       "         '것': 2,\n",
       "         '게': 1,\n",
       "         '계기': 1,\n",
       "         '고': 1,\n",
       "         '공동': 9,\n",
       "         '광복절': 1,\n",
       "         '국제사회': 1,\n",
       "         '기자': 2,\n",
       "         '남': 5,\n",
       "         '남북': 1,\n",
       "         '내용': 1,\n",
       "         '년': 2,\n",
       "         '달': 1,\n",
       "         '달도': 1,\n",
       "         '당국': 1,\n",
       "         '대북': 1,\n",
       "         '뒤': 1,\n",
       "         '등': 1,\n",
       "         '를': 1,\n",
       "         '미지수': 1,\n",
       "         '민간': 1,\n",
       "         '민족': 1,\n",
       "         '반영': 1,\n",
       "         '방북': 1,\n",
       "         '보도': 1,\n",
       "         '북': 5,\n",
       "         '북한': 3,\n",
       "         '분위기': 1,\n",
       "         '사무': 2,\n",
       "         '사전': 1,\n",
       "         '새': 2,\n",
       "         '서울': 3,\n",
       "         '선': 1,\n",
       "         '선양': 1,\n",
       "         '선언': 2,\n",
       "         '수': 1,\n",
       "         '승인': 1,\n",
       "         '신청': 4,\n",
       "         '실천': 2,\n",
       "         '아직': 1,\n",
       "         '안': 1,\n",
       "         '안태훈': 2,\n",
       "         '앞서': 1,\n",
       "         '앵커': 1,\n",
       "         '얼마': 1,\n",
       "         '열기': 2,\n",
       "         '와': 1,\n",
       "         '월': 1,\n",
       "         '위원회': 5,\n",
       "         '유연': 1,\n",
       "         '의견': 2,\n",
       "         '이': 1,\n",
       "         '이명박': 1,\n",
       "         '이후': 1,\n",
       "         '재개': 1,\n",
       "         '저희': 1,\n",
       "         '접수': 1,\n",
       "         '접촉': 3,\n",
       "         '정부': 3,\n",
       "         '제재': 1,\n",
       "         '조율': 1,\n",
       "         '중국': 1,\n",
       "         '중단': 1,\n",
       "         '지난': 1,\n",
       "         '차원': 1,\n",
       "         '처': 2,\n",
       "         '초기': 1,\n",
       "         '최근': 1,\n",
       "         '최은': 2,\n",
       "         '측': 1,\n",
       "         '측은': 4,\n",
       "         '크게': 1,\n",
       "         '통일부': 2,\n",
       "         '틀': 1,\n",
       "         '평양': 2,\n",
       "         '포함': 1,\n",
       "         '하자': 1,\n",
       "         '합의': 3,\n",
       "         '핵심': 1,\n",
       "         '행사': 9,\n",
       "         '협의': 1,\n",
       "         '훼손': 1})"
      ]
     },
     "execution_count": 6,
     "metadata": {},
     "output_type": "execute_result"
    }
   ],
   "source": [
    "count = Counter(nouns)\n",
    "count"
   ]
  },
  {
   "cell_type": "markdown",
   "metadata": {},
   "source": [
    "## 4단계. 집계된 결과에서 상위 10건만 추출 하기"
   ]
  },
  {
   "cell_type": "code",
   "execution_count": 7,
   "metadata": {
    "collapsed": false
   },
   "outputs": [
    {
     "data": {
      "text/plain": [
       "[('공동', 9),\n",
       " ('행사', 9),\n",
       " ('북', 5),\n",
       " ('위원회', 5),\n",
       " ('남', 5),\n",
       " ('개최', 4),\n",
       " ('신청', 4),\n",
       " ('측은', 4),\n",
       " ('정부', 3),\n",
       " ('서울', 3)]"
      ]
     },
     "execution_count": 7,
     "metadata": {},
     "output_type": "execute_result"
    }
   ],
   "source": [
    "count.most_common(10) "
   ]
  },
  {
   "cell_type": "markdown",
   "metadata": {},
   "source": [
    "## 5단계. 태그 생성하기\n",
    "- 위 데이터를 tag2변수에 담아 patagcloud.make_tags()를 이용하여 태그를 생성한다.\n",
    "- maxsize 옵션은 글자 크기를 지정한 것이다."
   ]
  },
  {
   "cell_type": "code",
   "execution_count": 8,
   "metadata": {
    "collapsed": false
   },
   "outputs": [
    {
     "data": {
      "text/plain": [
       "[{'color': (77, 151, 174), 'size': 87, 'tag': '공동'},\n",
       " {'color': (139, 189, 119), 'size': 87, 'tag': '행사'},\n",
       " {'color': (92, 167, 110), 'size': 55, 'tag': '북'},\n",
       " {'color': (101, 85, 197), 'size': 55, 'tag': '위원회'},\n",
       " {'color': (65, 19, 137), 'size': 55, 'tag': '남'},\n",
       " {'color': (208, 212, 102), 'size': 47, 'tag': '개최'},\n",
       " {'color': (215, 213, 186), 'size': 47, 'tag': '신청'},\n",
       " {'color': (149, 95, 164), 'size': 47, 'tag': '측은'},\n",
       " {'color': (157, 16, 161), 'size': 38, 'tag': '정부'},\n",
       " {'color': (212, 67, 23), 'size': 38, 'tag': '서울'},\n",
       " {'color': (107, 27, 49), 'size': 38, 'tag': '북한'},\n",
       " {'color': (133, 138, 206), 'size': 38, 'tag': '합의'},\n",
       " {'color': (58, 88, 35), 'size': 38, 'tag': '접촉'},\n",
       " {'color': (183, 34, 23), 'size': 28, 'tag': '선언'},\n",
       " {'color': (60, 188, 185), 'size': 28, 'tag': '년'},\n",
       " {'color': (157, 13, 210), 'size': 28, 'tag': '열기'},\n",
       " {'color': (19, 189, 125), 'size': 28, 'tag': '평양'},\n",
       " {'color': (114, 74, 181), 'size': 28, 'tag': '처'},\n",
       " {'color': (177, 34, 48), 'size': 28, 'tag': '통일부'},\n",
       " {'color': (158, 49, 32), 'size': 28, 'tag': '사무'},\n",
       " {'color': (190, 125, 219), 'size': 28, 'tag': '실천'},\n",
       " {'color': (208, 78, 24), 'size': 28, 'tag': '최은'},\n",
       " {'color': (71, 16, 118), 'size': 28, 'tag': '새'},\n",
       " {'color': (94, 179, 119), 'size': 28, 'tag': '것'},\n",
       " {'color': (22, 170, 103), 'size': 28, 'tag': '안태훈'},\n",
       " {'color': (62, 57, 30), 'size': 28, 'tag': '기자'},\n",
       " {'color': (123, 166, 102), 'size': 28, 'tag': '의견'},\n",
       " {'color': (66, 42, 208), 'size': 17, 'tag': '내용'},\n",
       " {'color': (174, 163, 44), 'size': 17, 'tag': '당국'},\n",
       " {'color': (133, 40, 110), 'size': 17, 'tag': '차원'},\n",
       " {'color': (76, 29, 182), 'size': 17, 'tag': '유연'},\n",
       " {'color': (47, 148, 111), 'size': 17, 'tag': '검토'},\n",
       " {'color': (97, 125, 198), 'size': 17, 'tag': '저희'},\n",
       " {'color': (189, 150, 133), 'size': 17, 'tag': '얼마'},\n",
       " {'color': (120, 88, 208), 'size': 17, 'tag': '이후'},\n",
       " {'color': (64, 178, 50), 'size': 17, 'tag': '사전'},\n",
       " {'color': (203, 111, 141), 'size': 17, 'tag': '미지수'},\n",
       " {'color': (123, 28, 105), 'size': 17, 'tag': '조율'},\n",
       " {'color': (206, 124, 158), 'size': 17, 'tag': '뒤'},\n",
       " {'color': (134, 135, 11), 'size': 17, 'tag': '달'}]"
      ]
     },
     "execution_count": 8,
     "metadata": {},
     "output_type": "execute_result"
    }
   ],
   "source": [
    "tag2 = count.most_common(40)\n",
    "taglist = pytagcloud.make_tags(tag2,maxsize=80)\n",
    "taglist"
   ]
  },
  {
   "cell_type": "markdown",
   "metadata": {},
   "source": [
    "## 6단계. 이미지로 저장하기\n",
    "이미지로 저장은 pytagcloud.crete_tag_image()메서드를 이용한다.\n",
    "필수 매개변수는 \n",
    "- 태그 목록\n",
    "- 저장될 파일명\n",
    "- size: 캔버스 사이즈(size=(640,480)\n",
    "- fontsize: 글꼴 종류\n",
    "Nobile, Old Standard TT, Cantarell, Reenie Beanie, Cuprum, Molengo, \n",
    "Neucha, Philosopher, Yanone Kaffeesatz, Cardo, Neuton, Inconsolata, Crimson Text, Josefin Sans, Droid Sans, Lobster, IM Fell DW Pica, Vollkorn, Tangerine, Coustard, PT Sans Regular\n",
    "- rectangular: 워드클라우드 형태(사각 또는 원형)"
   ]
  },
  {
   "cell_type": "code",
   "execution_count": 9,
   "metadata": {
    "collapsed": false
   },
   "outputs": [],
   "source": [
    "pytagcloud.create_tag_image(taglist, 'wordcloud.jpg', size=(900, 600), fontname='korean', rectangular = False)"
   ]
  },
  {
   "cell_type": "markdown",
   "metadata": {
    "collapsed": true
   },
   "source": [
    "## 결과. 명사만을 추출하여 빈도수에 비례하여 크기를 달리하여 배열한 그림\n",
    "\n",
    "![title](wordcloud.jpg)"
   ]
  },
  {
   "cell_type": "markdown",
   "metadata": {},
   "source": [
    "## 전체 코드 "
   ]
  },
  {
   "cell_type": "code",
   "execution_count": 2,
   "metadata": {
    "collapsed": false
   },
   "outputs": [],
   "source": [
    "from collections import Counter\n",
    "from konlpy.tag import Twitter\n",
    "import pytagcloud\n",
    " \n",
    "f = open('text.txt')\n",
    "data = f.read()\n",
    " \n",
    "nlp = Twitter()\n",
    "nouns = nlp.nouns(data)\n",
    " \n",
    "count = Counter(nouns)\n",
    "tags2 = count.most_common(40)\n",
    "taglist = pytagcloud.make_tags(tags2, maxsize=80)\n",
    "pytagcloud.create_tag_image(taglist, 'wordcloud.jpg', size=(900, 600), fontname='korean', rectangular=False)\n",
    " \n",
    "f.close()"
   ]
  },
  {
   "cell_type": "markdown",
   "metadata": {},
   "source": [
    "# 참고자료\n",
    "타이틀,저자(번역),자료명,출처(출판사)\n",
    "1. 팅크웨어 선행기술개발팀,박대성,파이썬 형태소 분석으로 워드클라우드 그리기, https://thinkwarelab.wordpress.com/"
   ]
  }
 ],
 "metadata": {
  "anaconda-cloud": {},
  "kernelspec": {
   "display_name": "Python [default]",
   "language": "python",
   "name": "python3"
  },
  "language_info": {
   "codemirror_mode": {
    "name": "ipython",
    "version": 3
   },
   "file_extension": ".py",
   "mimetype": "text/x-python",
   "name": "python",
   "nbconvert_exporter": "python",
   "pygments_lexer": "ipython3",
   "version": "3.5.2"
  }
 },
 "nbformat": 4,
 "nbformat_minor": 2
}
